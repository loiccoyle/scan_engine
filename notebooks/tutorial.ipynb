{
 "cells": [
  {
   "cell_type": "code",
   "execution_count": 1,
   "metadata": {},
   "outputs": [],
   "source": [
    "from scan_engine import engine\n",
    "from scan_engine import Zipable as Z\n",
    "from scan_engine import Productable as P"
   ]
  },
  {
   "cell_type": "markdown",
   "metadata": {},
   "source": [
    "# Parameters\n",
    "There are 2 parameter types:\n",
    " * Zipable: For parameters which should be `zip`ed when combined.\n",
    " \n",
    " ``` python\n",
    ">>> var1 = Zipable(1, 2)\n",
    ">>> var2 = Zipable(3, 4)\n",
    ">>> var1 + var2\n",
    "Z((1,3), (2,4))\n",
    "```\n",
    "\n",
    "* Productable: For parameters which should be `itertools.product`ed when combined.\n",
    "\n",
    " ``` python\n",
    ">>> var1 = Productable(1, 2)\n",
    ">>> var2 = Productable(3, 4)\n",
    ">>> var1 + var2\n",
    "Z((1,3), (1,4), (2,3), (2,4))\n",
    "```\n",
    "\n",
    "These Parameter types are subclassed from `list` so expect `list` like behaviour. The main difference is the `+` operator.\n",
    "\n",
    "There are conventions to take into account:\n",
    " * The output of any combination is a `Zipable`:\n",
    "     * `a=Productable + b=Productable` --> `Zipable(product(a,b))`\n",
    " * Productable Dominates:\n",
    "     * `a=Zipable + b=Productable` --> `Zipable(product(a,b))`\n",
    "     * `a=Productable + b=Iterable` --> `Zipable(product(a,b))`\n",
    " * Default behaviour is `product`:\n",
    "     * `a=Zipable + b=list or tuple or int or float ...)` --> `a + Productable(b)` --> `Zipable(product(a,b))`"
   ]
  },
  {
   "cell_type": "code",
   "execution_count": 2,
   "metadata": {},
   "outputs": [
    {
     "data": {
      "text/plain": [
       "Z((1, 4), (2, 5), (3, 6))"
      ]
     },
     "execution_count": 2,
     "metadata": {},
     "output_type": "execute_result"
    }
   ],
   "source": [
    "var1 = Z(1,2,3)\n",
    "var2 = Z(4,5,6)\n",
    "var1 + var2"
   ]
  },
  {
   "cell_type": "code",
   "execution_count": 3,
   "metadata": {},
   "outputs": [
    {
     "data": {
      "text/plain": [
       "Z((1, 4), (1, 5), (1, 6), (2, 4), (2, 5), (2, 6), (3, 4), (3, 5), (3, 6))"
      ]
     },
     "execution_count": 3,
     "metadata": {},
     "output_type": "execute_result"
    }
   ],
   "source": [
    "var1 = P(1,2,3)\n",
    "var2 = P(4,5,6)\n",
    "var1 + var2"
   ]
  },
  {
   "cell_type": "code",
   "execution_count": 4,
   "metadata": {},
   "outputs": [
    {
     "data": {
      "text/plain": [
       "Z((1, 4), (1, 5), (1, 6), (2, 4), (2, 5), (2, 6), (3, 4), (3, 5), (3, 6))"
      ]
     },
     "execution_count": 4,
     "metadata": {},
     "output_type": "execute_result"
    }
   ],
   "source": [
    "var1 = Z(1,2,3)\n",
    "var2 = P(4,5,6)\n",
    "var1 + var2"
   ]
  },
  {
   "cell_type": "code",
   "execution_count": 5,
   "metadata": {},
   "outputs": [
    {
     "data": {
      "text/plain": [
       "Z((1, 2), (2, 2), (3, 2))"
      ]
     },
     "execution_count": 5,
     "metadata": {},
     "output_type": "execute_result"
    }
   ],
   "source": [
    "var1 = Z(1,2,3)\n",
    "var2 = 2\n",
    "var1 + var2"
   ]
  },
  {
   "cell_type": "code",
   "execution_count": 6,
   "metadata": {},
   "outputs": [
    {
     "data": {
      "text/plain": [
       "[(1, 4, 6), (1, 5, 7), (2, 4, 8), (2, 5, 9)]"
      ]
     },
     "execution_count": 6,
     "metadata": {},
     "output_type": "execute_result"
    }
   ],
   "source": [
    "var1 = P(1,2)\n",
    "var2 = P(4,5)\n",
    "var3 = Z(6,7,8,9)\n",
    "list(engine(var1, var2, var3))"
   ]
  },
  {
   "cell_type": "markdown",
   "metadata": {},
   "source": [
    "# Nesting\n",
    "These parameter types can be nested infinitely!"
   ]
  },
  {
   "cell_type": "code",
   "execution_count": 7,
   "metadata": {},
   "outputs": [
    {
     "data": {
      "text/plain": [
       "Z((P(1, 2, 3), P(7, 8, 9)), (P(4, 5, 6), P(10, 11, 12)))"
      ]
     },
     "execution_count": 7,
     "metadata": {},
     "output_type": "execute_result"
    }
   ],
   "source": [
    "var1 = Z(P(1,2,3), P(4,5,6))\n",
    "var2 = Z(P(7,8,9), P(10,11,12))\n",
    "var1 + var2"
   ]
  },
  {
   "cell_type": "markdown",
   "metadata": {},
   "source": [
    "`+` only does the outter combination, use the `engine` function to expand the nested combinations"
   ]
  },
  {
   "cell_type": "code",
   "execution_count": 8,
   "metadata": {},
   "outputs": [
    {
     "data": {
      "text/plain": [
       "[(1, 7),\n",
       " (1, 8),\n",
       " (1, 9),\n",
       " (2, 7),\n",
       " (2, 8),\n",
       " (2, 9),\n",
       " (3, 7),\n",
       " (3, 8),\n",
       " (3, 9),\n",
       " (4, 10),\n",
       " (4, 11),\n",
       " (4, 12),\n",
       " (5, 10),\n",
       " (5, 11),\n",
       " (5, 12),\n",
       " (6, 10),\n",
       " (6, 11),\n",
       " (6, 12)]"
      ]
     },
     "execution_count": 8,
     "metadata": {},
     "output_type": "execute_result"
    }
   ],
   "source": [
    "list(engine(var1, var2))"
   ]
  },
  {
   "cell_type": "code",
   "execution_count": 9,
   "metadata": {},
   "outputs": [
    {
     "data": {
      "text/plain": [
       "[(1, 7),\n",
       " (2, 8),\n",
       " (3, 9),\n",
       " (1, 10),\n",
       " (2, 11),\n",
       " (3, 12),\n",
       " (4, 7),\n",
       " (5, 8),\n",
       " (6, 9),\n",
       " (4, 10),\n",
       " (5, 11),\n",
       " (6, 12)]"
      ]
     },
     "execution_count": 9,
     "metadata": {},
     "output_type": "execute_result"
    }
   ],
   "source": [
    "var1 = P(Z(1,2,3), Z(4,5,6))\n",
    "var2 = P(Z(7,8,9), Z(10,11,12))\n",
    "list(engine(var1, var2))"
   ]
  },
  {
   "cell_type": "code",
   "execution_count": 10,
   "metadata": {},
   "outputs": [
    {
     "data": {
      "text/plain": [
       "[(1, 7, 13),\n",
       " (2, 8, 13),\n",
       " (3, 9, 13),\n",
       " (1, 10, 14),\n",
       " (2, 11, 14),\n",
       " (3, 12, 14),\n",
       " (4, 7, 15),\n",
       " (5, 8, 15),\n",
       " (6, 9, 15),\n",
       " (4, 10, 16),\n",
       " (5, 11, 16),\n",
       " (6, 12, 16)]"
      ]
     },
     "execution_count": 10,
     "metadata": {},
     "output_type": "execute_result"
    }
   ],
   "source": [
    "var1 = P(Z(1,2,3), Z(4,5,6))\n",
    "var2 = P(Z(7,8,9), Z(10,11,12))\n",
    "var3 = Z(13,14,15,16)\n",
    "list(engine(var1, var2, var3))"
   ]
  },
  {
   "cell_type": "code",
   "execution_count": 11,
   "metadata": {},
   "outputs": [
    {
     "data": {
      "text/plain": [
       "[(1, 7, 13),\n",
       " (1, 7, 14),\n",
       " (1, 7, 15),\n",
       " (2, 8, 13),\n",
       " (2, 8, 14),\n",
       " (2, 8, 15),\n",
       " (3, 9, 13),\n",
       " (3, 9, 14),\n",
       " (3, 9, 15),\n",
       " (1, 10, 16),\n",
       " (1, 10, 17),\n",
       " (1, 10, 18),\n",
       " (2, 11, 16),\n",
       " (2, 11, 17),\n",
       " (2, 11, 18),\n",
       " (3, 12, 16),\n",
       " (3, 12, 17),\n",
       " (3, 12, 18),\n",
       " (4, 7, 19),\n",
       " (4, 7, 20),\n",
       " (4, 7, 21),\n",
       " (5, 8, 19),\n",
       " (5, 8, 20),\n",
       " (5, 8, 21),\n",
       " (6, 9, 19),\n",
       " (6, 9, 20),\n",
       " (6, 9, 21),\n",
       " (4, 10, 22),\n",
       " (4, 10, 23),\n",
       " (4, 10, 24),\n",
       " (5, 11, 22),\n",
       " (5, 11, 23),\n",
       " (5, 11, 24),\n",
       " (6, 12, 22),\n",
       " (6, 12, 23),\n",
       " (6, 12, 24)]"
      ]
     },
     "execution_count": 11,
     "metadata": {},
     "output_type": "execute_result"
    }
   ],
   "source": [
    "var1 = P(Z(1,2,3), Z(4,5,6))\n",
    "var2 = P(Z(7,8,9), Z(10,11,12))\n",
    "var3 = Z(P(13,14,15), P(16,17,18), P(19,20,21), P(22,23,24))\n",
    "list(engine(var1, var2, var3))"
   ]
  },
  {
   "cell_type": "markdown",
   "metadata": {},
   "source": [
    "# Typical usage"
   ]
  },
  {
   "cell_type": "markdown",
   "metadata": {},
   "source": [
    "Have some parameters productable keeping other constant"
   ]
  },
  {
   "cell_type": "code",
   "execution_count": 12,
   "metadata": {},
   "outputs": [
    {
     "data": {
      "text/plain": [
       "[(1, 4, 3),\n",
       " (1, 5, 3),\n",
       " (1, 6, 3),\n",
       " (2, 4, 3),\n",
       " (2, 5, 3),\n",
       " (2, 6, 3),\n",
       " (3, 4, 3),\n",
       " (3, 5, 3),\n",
       " (3, 6, 3)]"
      ]
     },
     "execution_count": 12,
     "metadata": {},
     "output_type": "execute_result"
    }
   ],
   "source": [
    "var1 = P(1,2,3)\n",
    "var2 = P(4,5,6)\n",
    "var3 = 3\n",
    "list(engine(var1, var2, var3))"
   ]
  },
  {
   "cell_type": "markdown",
   "metadata": {},
   "source": [
    "Have some parameters productable but incrementing another"
   ]
  },
  {
   "cell_type": "code",
   "execution_count": 13,
   "metadata": {},
   "outputs": [
    {
     "data": {
      "text/plain": [
       "[(1, 4, 0, 'something'),\n",
       " (1, 5, 1, 'something'),\n",
       " (1, 6, 2, 'something'),\n",
       " (2, 4, 3, 'something'),\n",
       " (2, 5, 4, 'something'),\n",
       " (2, 6, 5, 'something'),\n",
       " (3, 4, 6, 'something'),\n",
       " (3, 5, 7, 'something'),\n",
       " (3, 6, 8, 'something')]"
      ]
     },
     "execution_count": 13,
     "metadata": {},
     "output_type": "execute_result"
    }
   ],
   "source": [
    "var1 = P(1,2,3)\n",
    "var2 = P(4,5,6)\n",
    "var3 = Z(*range(len(var1 + var2)))\n",
    "var4 = ('something')\n",
    "list(engine(var1, var2, var3, var4))"
   ]
  },
  {
   "cell_type": "markdown",
   "metadata": {},
   "source": [
    "Maybe you want some weird incomplete products."
   ]
  },
  {
   "cell_type": "code",
   "execution_count": 14,
   "metadata": {},
   "outputs": [
    {
     "data": {
      "text/plain": [
       "[(1, 5, 9),\n",
       " (1, 6, 9),\n",
       " (2, 5, 9),\n",
       " (2, 6, 9),\n",
       " (3, 7, 10),\n",
       " (3, 8, 10),\n",
       " (4, 7, 10),\n",
       " (4, 8, 10)]"
      ]
     },
     "execution_count": 14,
     "metadata": {},
     "output_type": "execute_result"
    }
   ],
   "source": [
    "var1 = Z(P(1,2), P(3,4))\n",
    "var2 = Z(P(5,6), P(7,8))\n",
    "var3 = Z(9, 10)\n",
    "list(engine(var1, var2, var3))"
   ]
  },
  {
   "cell_type": "markdown",
   "metadata": {},
   "source": [
    "Or maybe you're a super weirdo and want some super weird combinations."
   ]
  },
  {
   "cell_type": "code",
   "execution_count": 15,
   "metadata": {},
   "outputs": [
    {
     "data": {
      "text/plain": [
       "[(1, 5, 'weirdo!'),\n",
       " (2, 6, 'weirdo!'),\n",
       " (1, 7, 'weirdo!'),\n",
       " (1, 8, 'weirdo!'),\n",
       " (2, 7, 'weirdo!'),\n",
       " (2, 8, 'weirdo!'),\n",
       " (3, 5, 'weirdo!'),\n",
       " (3, 6, 'weirdo!'),\n",
       " (4, 5, 'weirdo!'),\n",
       " (4, 6, 'weirdo!'),\n",
       " (3, 7, 'weirdo!'),\n",
       " (3, 8, 'weirdo!'),\n",
       " (4, 7, 'weirdo!'),\n",
       " (4, 8, 'weirdo!')]"
      ]
     },
     "execution_count": 15,
     "metadata": {},
     "output_type": "execute_result"
    }
   ],
   "source": [
    "var1 = P(Z(1,2), P(3,4))\n",
    "var2 = P(Z(5,6), P(7,8))\n",
    "var3 = 'weirdo!'\n",
    "list(engine(var1, var2, var3))"
   ]
  }
 ],
 "metadata": {
  "kernelspec": {
   "display_name": "Python 3",
   "language": "python",
   "name": "python3"
  },
  "language_info": {
   "codemirror_mode": {
    "name": "ipython",
    "version": 3
   },
   "file_extension": ".py",
   "mimetype": "text/x-python",
   "name": "python",
   "nbconvert_exporter": "python",
   "pygments_lexer": "ipython3",
   "version": "3.7.5"
  }
 },
 "nbformat": 4,
 "nbformat_minor": 2
}
